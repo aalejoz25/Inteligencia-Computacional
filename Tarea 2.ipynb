{
 "cells": [
  {
   "cell_type": "markdown",
   "id": "1afddc65",
   "metadata": {},
   "source": [
    "**Sistemas Difusos**\n",
    "\n",
    "* _Maria Alejandra Bonilla Diaz - 20251595002_ \n",
    "* _Alvaro Alejandro Zarabanda Gutierrez – 20251595006_\n"
   ]
  },
  {
   "cell_type": "markdown",
   "id": "7ea7f14e",
   "metadata": {},
   "source": [
    "$x = \\\\frac{ -b \\\\pm \\\\sqrt{ b^2 - 4ac } }{ 2a }$\n"
   ]
  },
  {
   "cell_type": "code",
   "execution_count": 1,
   "id": "0bae3a8f",
   "metadata": {},
   "outputs": [
    {
     "name": "stdout",
     "output_type": "stream",
     "text": [
      "Hola mundo\n"
     ]
    }
   ],
   "source": [
    "print(\"Hola mundo\");"
   ]
  },
  {
   "cell_type": "markdown",
   "id": "e61177b9",
   "metadata": {},
   "source": [
    "$x = \\\\\\\\frac{ -b \\\\\\\\pm \\\\\\\\sqrt{ b^2 - 4ac } }{ 2a }$"
   ]
  }
 ],
 "metadata": {
  "kernelspec": {
   "display_name": "Python 3",
   "language": "python",
   "name": "python3"
  },
  "language_info": {
   "codemirror_mode": {
    "name": "ipython",
    "version": 3
   },
   "file_extension": ".py",
   "mimetype": "text/x-python",
   "name": "python",
   "nbconvert_exporter": "python",
   "pygments_lexer": "ipython3",
   "version": "3.13.2"
  }
 },
 "nbformat": 4,
 "nbformat_minor": 5
}
