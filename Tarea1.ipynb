{
 "cells": [
  {
   "cell_type": "markdown",
   "id": "0",
   "metadata": {},
   "source": [
    "# **Tarea 1: Sistemas Difusos**\n",
    "\n",
    "### _Maria Alejandra Bonilla Diaz - 20251595002_ \n",
    "### _Alvaro Alejandro Zarabanda Gutierrez – 20251595006_\n"
   ]
  },
  {
   "cell_type": "markdown",
   "id": "1",
   "metadata": {},
   "source": [
    "1. Considere un conjunto fuzzy $A$ definido en el universo de discurso $X = \\in \\mathbb{R} \\mid 0 \\leq x \\leq 10 \\}$, el \n",
    "cual es representado por la siguiente función de pertenecia:\n",
    "$$\n",
    "\\mu_A(x) = \\begin{cases}\n",
    "0.5x - 1.5, & \\text{si } 3 \\leq x \\leq 5 \\\\\n",
    "-0.5x + 3.5, & \\text{si } 5 < x \\leq 7 \\\\\n",
    "0, & \\text{en otro caso}\n",
    "\\end{cases}\n",
    "$$"
   ]
  },
  {
   "cell_type": "markdown",
   "id": "2",
   "metadata": {},
   "source": [
    "a) Realice el gráfico de la función de pertenencia, indicando su tipo."
   ]
  },
  {
   "cell_type": "markdown",
   "id": "3",
   "metadata": {},
   "source": [
    "b) Conociendo que esta función representa un conjunto que se refiere a la temperatura \"media\" de un determinado proceso, explique cuál es el significado que esta conlleva."
   ]
  },
  {
   "cell_type": "markdown",
   "id": "4",
   "metadata": {},
   "source": [
    "c) Explique si el anterior conjunto fuzzy es considerado un conjunto normalizado."
   ]
  },
  {
   "cell_type": "markdown",
   "id": "5",
   "metadata": {},
   "source": [
    "d) Explique si el anterior conjunto fuzzy es considerado convexo."
   ]
  },
  {
   "cell_type": "markdown",
   "id": "6",
   "metadata": {},
   "source": [
    "e) Obtenga el conjunto soporte asociado al anterior conjunto fuzzy."
   ]
  }
 ],
 "metadata": {
  "kernelspec": {
   "display_name": ".venv",
   "language": "python",
   "name": "python3"
  },
  "language_info": {
   "codemirror_mode": {
    "name": "ipython",
    "version": 3
   },
   "file_extension": ".py",
   "mimetype": "text/x-python",
   "name": "python",
   "nbconvert_exporter": "python",
   "pygments_lexer": "ipython3",
   "version": "3.13.7"
  }
 },
 "nbformat": 4,
 "nbformat_minor": 5
}
