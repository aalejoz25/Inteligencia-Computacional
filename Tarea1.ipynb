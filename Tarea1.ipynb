{
 "cells": [
  {
   "cell_type": "markdown",
   "id": "0",
   "metadata": {},
   "source": [
    "# **Tarea 1: Sistemas Difusos**\n",
    "\n",
    "### _Maria Alejandra Bonilla Diaz - 20251595002_ \n",
    "### _Alvaro Alejandro Zarabanda Gutierrez – 20251595006_\n"
   ]
  },
  {
   "cell_type": "markdown",
   "id": "1",
   "metadata": {},
   "source": [
    "### Librerias e imports"
   ]
  },
  {
   "cell_type": "code",
   "execution_count": null,
   "id": "2",
   "metadata": {},
   "outputs": [],
   "source": [
    "%%capture\n",
    "%pip install numpy\n",
    "%pip install matplotlib"
   ]
  },
  {
   "cell_type": "code",
   "execution_count": null,
   "id": "3",
   "metadata": {},
   "outputs": [],
   "source": [
    "import numpy as np\n",
    "import matplotlib.pyplot as plt"
   ]
  },
  {
   "cell_type": "markdown",
   "id": "4",
   "metadata": {},
   "source": [
    "## \n",
    "1. Considere un conjunto fuzzy $A$ definido en el universo de discurso $X = \\in \\mathbb{R} \\mid 0 \\leq x \\leq 10 \\}$, el \n",
    "cual es representado por la siguiente función de pertenecia:\n",
    "$$\n",
    "\\mu_A(x) = \\begin{cases}\n",
    "0.5x - 1.5, & \\text{si } 3 \\leq x \\leq 5 \\\\\n",
    "-0.5x + 3.5, & \\text{si } 5 < x \\leq 7 \\\\\n",
    "0, & \\text{en otro caso}\n",
    "\\end{cases}\n",
    "$$"
   ]
  },
  {
   "cell_type": "markdown",
   "id": "5",
   "metadata": {},
   "source": [
    "### \n",
    "a) Realice el gráfico de la función de pertenencia, indicando su tipo."
   ]
  },
  {
   "cell_type": "code",
   "execution_count": null,
   "id": "6",
   "metadata": {},
   "outputs": [],
   "source": [
    "def mu_A(x):\n",
    "    if 3 <= x <= 5:\n",
    "        return 0.5 * x - 1.5\n",
    "    elif 5 < x <= 7:\n",
    "        return -0.5 * x + 3.5\n",
    "    else:\n",
    "        return 0\n",
    "\n",
    "x_vals = np.linspace(0, 10, 200)\n",
    "y_vals = [mu_A(x) for x in x_vals]\n",
    "\n",
    "plt.figure(figsize=(8,4))\n",
    "plt.plot(x_vals, y_vals, label=r'$\\mu_A(x)$')\n",
    "plt.title('Función de pertenencia del conjunto fuzzy A')\n",
    "plt.xlabel('x')\n",
    "plt.ylabel(r'$\\mu_A(x)$')\n",
    "plt.grid(True)\n",
    "plt.text(6.8, 0.2, 'Función triangular', fontsize=12, color='purple')\n",
    "plt.legend()\n",
    "plt.show()"
   ]
  },
  {
   "cell_type": "markdown",
   "id": "7",
   "metadata": {},
   "source": [
    "### \n",
    "b) Conociendo que esta función representa un conjunto que se refiere a la temperatura \"media\" de un determinado proceso, explique cuál es el significado que esta conlleva."
   ]
  },
  {
   "cell_type": "markdown",
   "id": "8",
   "metadata": {},
   "source": [
    "La función de pertenencia describe cómo cada valor de temperatura dentro del rango [0, 10] se asocia con el concepto de “temperatura media” en el proceso. Los valores cercanos a 3 y 7 tienen pertenencia cero (no son considerados “medios”), mientras que los valores entre 3 y 7 tienen distintos grados de pertenencia, alcanzando el máximo en x = 5. Esto significa que la temperatura “media” está representada principalmente por valores cercanos a 5, y los valores más alejados son menos representativos de ese concepto.\n",
    "\n"
   ]
  },
  {
   "cell_type": "markdown",
   "id": "9",
   "metadata": {},
   "source": [
    "###\n",
    "c) Explique si el anterior conjunto fuzzy es considerado un conjunto normalizado."
   ]
  },
  {
   "cell_type": "markdown",
   "id": "10",
   "metadata": {},
   "source": [
    "Un conjunto fuzzy es considerado normalizado si existe al menos un elemento en el universo de discurso cuya función de pertenencia alcanza el valor máximo de 1. En este caso, la función de pertenencia $\\mu_A(x)$ alcanza el valor 1 cuando $x = 5$. Por lo tanto, el conjunto fuzzy $A$ es normalizado."
   ]
  },
  {
   "cell_type": "markdown",
   "id": "11",
   "metadata": {},
   "source": [
    "###\n",
    "d) Explique si el anterior conjunto fuzzy es considerado convexo."
   ]
  },
  {
   "cell_type": "markdown",
   "id": "12",
   "metadata": {},
   "source": [
    "Un conjunto fuzzy es convexo si para cualquier par de puntos $x_1$ y $x_2$ en el universo de discurso y cualquier $\\lambda \\in [0,1]$, se cumple que:\n",
    "$$\n",
    "\\mu_A(\\lambda x_1 + (1-\\lambda)x_2) \\geq \\min\\{\\mu_A(x_1), \\mu_A(x_2)\\}\n",
    "$$\n",
    "En este caso, la función de pertenencia $\\mu_A(x)$ es una función triangular, que es continua y no presenta \"valles\" entre los extremos. Por lo tanto, el conjunto fuzzy $A$ es considerado convexo."
   ]
  },
  {
   "cell_type": "markdown",
   "id": "13",
   "metadata": {},
   "source": [
    "###\n",
    "e) Obtenga el conjunto soporte asociado al anterior conjunto fuzzy."
   ]
  },
  {
   "cell_type": "markdown",
   "id": "14",
   "metadata": {},
   "source": [
    "El conjunto soporte de un conjunto fuzzy es el subconjunto del universo de discurso donde la función de pertenencia es estrictamente mayor que cero, es decir, $\\mu_A(x) > 0$. Para este caso, el conjunto soporte es el intervalo $(3, 7)$, ya que en ese rango la función de pertenencia toma valores positivos."
   ]
  },
  {
   "cell_type": "markdown",
   "id": "15",
   "metadata": {},
   "source": [
    "$$\n",
    "\\text{Supp}(A) = \\{ x \\in X \\mid 3 < x < 7 \\}\n",
    "$$"
   ]
  }
 ],
 "metadata": {
  "kernelspec": {
   "display_name": ".venv",
   "language": "python",
   "name": "python3"
  },
  "language_info": {
   "codemirror_mode": {
    "name": "ipython",
    "version": 3
   },
   "file_extension": ".py",
   "mimetype": "text/x-python",
   "name": "python",
   "nbconvert_exporter": "python",
   "pygments_lexer": "ipython3",
   "version": "3.13.7"
  }
 },
 "nbformat": 4,
 "nbformat_minor": 5
}
